{
 "cells": [
  {
   "cell_type": "code",
   "execution_count": 7,
   "metadata": {},
   "outputs": [],
   "source": [
    "import pandas as pd\n",
    "from sklearn.preprocessing import StandardScaler\n",
    "from sklearn.model_selection import train_test_split\n",
    "from sklearn.preprocessing import LabelEncoder, OneHotEncoder"
   ]
  },
  {
   "cell_type": "code",
   "execution_count": 57,
   "metadata": {},
   "outputs": [
    {
     "name": "stdout",
     "output_type": "stream",
     "text": [
      "Previsores\n",
      " [[39 ' State-gov' 77516 ' Bachelors' 13 ' Never-married' ' Adm-clerical'\n",
      "  ' Not-in-family' ' White' ' Male' 2174 0 40 ' United-States']\n",
      " [50 ' Self-emp-not-inc' 83311 ' Bachelors' 13 ' Married-civ-spouse'\n",
      "  ' Exec-managerial' ' Husband' ' White' ' Male' 0 0 13 ' United-States']\n",
      " [38 ' Private' 215646 ' HS-grad' 9 ' Divorced' ' Handlers-cleaners'\n",
      "  ' Not-in-family' ' White' ' Male' 0 0 40 ' United-States']\n",
      " [53 ' Private' 234721 ' 11th' 7 ' Married-civ-spouse'\n",
      "  ' Handlers-cleaners' ' Husband' ' Black' ' Male' 0 0 40\n",
      "  ' United-States']\n",
      " [28 ' Private' 338409 ' Bachelors' 13 ' Married-civ-spouse'\n",
      "  ' Prof-specialty' ' Wife' ' Black' ' Female' 0 0 40 ' Cuba']]\n",
      "\n",
      "Classe\n",
      " [' <=50K' ' <=50K' ' <=50K' ' <=50K' ' <=50K']\n",
      "Previsores treinamento: 27676\n",
      "Previsores teste: 4885\n",
      "Classe treinamento: 27676\n",
      "Classe teste: 4885\n"
     ]
    },
    {
     "name": "stderr",
     "output_type": "stream",
     "text": [
      "/home/dstrb/anaconda3/envs/az_ml/lib/python3.6/site-packages/sklearn/utils/validation.py:595: DataConversionWarning: Data with input dtype object was converted to float64 by StandardScaler.\n",
      "  warnings.warn(msg, DataConversionWarning)\n",
      "/home/dstrb/anaconda3/envs/az_ml/lib/python3.6/site-packages/sklearn/utils/validation.py:595: DataConversionWarning: Data with input dtype object was converted to float64 by StandardScaler.\n",
      "  warnings.warn(msg, DataConversionWarning)\n"
     ]
    }
   ],
   "source": [
    "df = pd.read_csv('../data/census.csv')\n",
    "\n",
    "df.head()\n",
    "\n",
    "\n",
    "# ### Separando previsores e classe\n",
    "\n",
    "previsores = df.iloc[:,:14].values\n",
    "classe = df.iloc[:,14].values\n",
    "print('Previsores\\n', previsores[:5])\n",
    "print('\\nClasse\\n', classe[:5])\n",
    "\n",
    "\n",
    "# ## Var. categóricas\n",
    "\n",
    "categ = [ i for i, coluna in enumerate(df.dtypes.values) if coluna == 'object']\n",
    "categ\n",
    "\n",
    "labelencoder_previsores = LabelEncoder()\n",
    "\n",
    "for i in categ[:-1]:\n",
    "    previsores[:,i] = labelencoder_previsores.fit_transform(previsores[:, i])\n",
    "previsores[:,9]     \n",
    "\n",
    "# ### Nominal\n",
    "\n",
    "# onehotencoder = OneHotEncoder(categorical_features=categ[:-1])\n",
    "# previsores = onehotencoder.fit_transform(previsores).toarray()\n",
    "\n",
    "# previsores[:2,:]\n",
    "\n",
    "# labelencoder_classe = LabelEncoder()\n",
    "# classe = labelencoder_classe.fit_transform(classe)\n",
    "# classe[:10]\n",
    "\n",
    "\n",
    "## Escalonamento\n",
    "\n",
    "scaler = StandardScaler()\n",
    "previsores = scaler.fit_transform(previsores)\n",
    "previsores[:2,:]\n",
    "\n",
    "\n",
    "# ## Separando dados de teste e treinamento\n",
    "\n",
    "previsores_treinamento, previsores_teste, classe_treinamento, classe_teste = train_test_split(previsores, classe, test_size=.15, random_state=0)\n",
    "\n",
    "print('Previsores treinamento:', len(previsores_treinamento))\n",
    "print('Previsores teste:', len(previsores_teste))\n",
    "print('Classe treinamento:', len(classe_treinamento))\n",
    "print('Classe teste:', len(classe_teste))\n"
   ]
  },
  {
   "cell_type": "markdown",
   "metadata": {},
   "source": [
    "## Bayes"
   ]
  },
  {
   "cell_type": "code",
   "execution_count": 58,
   "metadata": {},
   "outputs": [],
   "source": [
    "from sklearn.naive_bayes import GaussianNB"
   ]
  },
  {
   "cell_type": "code",
   "execution_count": 59,
   "metadata": {},
   "outputs": [],
   "source": [
    "classificador = GaussianNB()\n",
    "classificador.fit(previsores_treinamento, classe_treinamento)\n",
    "previsoes = classificador.predict(previsores_teste)"
   ]
  },
  {
   "cell_type": "code",
   "execution_count": 60,
   "metadata": {},
   "outputs": [
    {
     "data": {
      "text/plain": [
       "array([' <=50K', ' <=50K', ' <=50K', ' >50K', ' >50K'], dtype='<U6')"
      ]
     },
     "execution_count": 60,
     "metadata": {},
     "output_type": "execute_result"
    }
   ],
   "source": [
    "previsoes[:5]"
   ]
  },
  {
   "cell_type": "markdown",
   "metadata": {},
   "source": [
    "## Métricas"
   ]
  },
  {
   "cell_type": "code",
   "execution_count": 61,
   "metadata": {},
   "outputs": [],
   "source": [
    "from sklearn.metrics import confusion_matrix, accuracy_score"
   ]
  },
  {
   "cell_type": "code",
   "execution_count": 62,
   "metadata": {},
   "outputs": [
    {
     "name": "stdout",
     "output_type": "stream",
     "text": [
      "Precisão: 0.8057318321392016\n",
      "Matriz:\n",
      " [[3528  165]\n",
      " [ 784  408]]\n"
     ]
    }
   ],
   "source": [
    "precisao = accuracy_score(classe_teste, previsoes)\n",
    "matriz = confusion_matrix(classe_teste, previsoes)\n",
    "print('Precisão:', precisao)\n",
    "print('Matriz:\\n', matriz)"
   ]
  },
  {
   "cell_type": "code",
   "execution_count": null,
   "metadata": {},
   "outputs": [],
   "source": []
  }
 ],
 "metadata": {
  "kernelspec": {
   "display_name": "Python 3",
   "language": "python",
   "name": "python3"
  },
  "language_info": {
   "codemirror_mode": {
    "name": "ipython",
    "version": 3
   },
   "file_extension": ".py",
   "mimetype": "text/x-python",
   "name": "python",
   "nbconvert_exporter": "python",
   "pygments_lexer": "ipython3",
   "version": "3.6.8"
  }
 },
 "nbformat": 4,
 "nbformat_minor": 2
}
